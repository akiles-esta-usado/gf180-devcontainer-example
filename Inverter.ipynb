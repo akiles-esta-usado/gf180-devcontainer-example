{
 "cells": [
  {
   "cell_type": "markdown",
   "metadata": {},
   "source": [
    "# Simple GF180 test layout"
   ]
  },
  {
   "cell_type": "code",
   "execution_count": 1,
   "metadata": {},
   "outputs": [
    {
     "name": "stderr",
     "output_type": "stream",
     "text": [
      "\u001b[32m2023-10-19 15:11:28.914\u001b[0m | \u001b[33m\u001b[1mWARNING \u001b[0m | \u001b[36mgdsfactory.pdk\u001b[0m:\u001b[36mget_active_pdk\u001b[0m:\u001b[36m696\u001b[0m - \u001b[33m\u001b[1mNo active PDK. Activating generic PDK.\n",
      "\u001b[0m\n"
     ]
    },
    {
     "name": "stdout",
     "output_type": "stream",
     "text": [
      "(22, 0)\n"
     ]
    },
    {
     "name": "stderr",
     "output_type": "stream",
     "text": [
      "\u001b[32m2023-10-19 15:11:29.272\u001b[0m | \u001b[1mINFO    \u001b[0m | \u001b[36mgdsfactory.technology.layer_views\u001b[0m:\u001b[36m__init__\u001b[0m:\u001b[36m782\u001b[0m - \u001b[1mImporting LayerViews from YAML file: '/home/designer/.local/lib/python3.11/site-packages/gdsfactory/generic_tech/layer_views.yaml'.\u001b[0m\n",
      "\u001b[32m2023-10-19 15:11:29.283\u001b[0m | \u001b[1mINFO    \u001b[0m | \u001b[36mgdsfactory.pdk\u001b[0m:\u001b[36mactivate\u001b[0m:\u001b[36m316\u001b[0m - \u001b[1m'generic' PDK is now active\u001b[0m\n"
     ]
    }
   ],
   "source": [
    "import drawInverter\n",
    "import klayout.db as k\n",
    "\n",
    "layout = k.Layout()\n",
    "\n",
    "c = drawInverter.drawInverter(\n",
    "    layout,\n",
    "    w_gate_Nmos = 10,\n",
    "    folding_Nmos = 10,\n",
    "    w_gate_Pmos = 6,\n",
    "    folding_Pmos = 3\n",
    "    )\n",
    "c.show(show_ports=True)"
   ]
  },
  {
   "cell_type": "code",
   "execution_count": null,
   "metadata": {},
   "outputs": [],
   "source": [
    "# See this tutorial. They use the macro development environment...\n",
    "# https://www.youtube.com/watch?v=2e6DuFj0Xws&list=PL12BCN5zxKhysQPbl0Fy0a6x0fiCPJZB-&index=9"
   ]
  },
  {
   "cell_type": "code",
   "execution_count": 14,
   "metadata": {},
   "outputs": [
    {
     "name": "stdout",
     "output_type": "stream",
     "text": [
      "<cells.gf180mcu object at 0x7f70ac4196d0>\n"
     ]
    },
    {
     "data": {
      "text/plain": [
       "<cells.gf180mcu at 0x7f70ac4196d0>"
      ]
     },
     "execution_count": 14,
     "metadata": {},
     "output_type": "execute_result"
    }
   ],
   "source": [
    "import drawInverter\n",
    "import klayout.db as k\n",
    "import cells as gf180\n",
    "\n",
    "from cells import gf180mcu\n",
    "gf180mcu()\n",
    "lib = k.Library.library_by_name(\"gf180mcu\")\n",
    "print(lib)\n",
    "\n",
    "layout = k.Layout()\n",
    "k.Library.library_by_name(\"gf180mcu\")\n"
   ]
  }
 ],
 "metadata": {
  "kernelspec": {
   "display_name": "Python 3",
   "language": "python",
   "name": "python3"
  },
  "language_info": {
   "codemirror_mode": {
    "name": "ipython",
    "version": 3
   },
   "file_extension": ".py",
   "mimetype": "text/x-python",
   "name": "python",
   "nbconvert_exporter": "python",
   "pygments_lexer": "ipython3",
   "version": "3.11.5"
  }
 },
 "nbformat": 4,
 "nbformat_minor": 2
}
