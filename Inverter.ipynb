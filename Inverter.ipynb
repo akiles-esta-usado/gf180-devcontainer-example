{
 "cells": [
  {
   "cell_type": "markdown",
   "metadata": {},
   "source": [
    "# Simple GF180 test layout"
   ]
  },
  {
   "cell_type": "code",
   "execution_count": 2,
   "metadata": {},
   "outputs": [
    {
     "name": "stderr",
     "output_type": "stream",
     "text": [
      "\u001b[32m2023-10-16 19:35:10.758\u001b[0m | \u001b[33m\u001b[1mWARNING \u001b[0m | \u001b[36mgdsfactory.klive\u001b[0m:\u001b[36mshow\u001b[0m:\u001b[36m48\u001b[0m - \u001b[33m\u001b[1mCould not connect to klive server. Is klayout open and klive plugin installed?\u001b[0m\n"
     ]
    }
   ],
   "source": [
    "import importlib\n",
    "import drawInverter\n",
    "\n",
    "importlib.reload(drawInverter)\n",
    "from drawInverter import drawInverter, drawTransistor\n",
    "\n",
    "c = drawInverter(\n",
    "    w_gate_Nmos = 10 ,\n",
    "    folding_Nmos = 10 ,\n",
    "    w_gate_Pmos = 6 ,\n",
    "    folding_Pmos = 3 )\n",
    "c.show(show_ports=True)"
   ]
  }
 ],
 "metadata": {
  "kernelspec": {
   "display_name": "Python 3",
   "language": "python",
   "name": "python3"
  },
  "language_info": {
   "codemirror_mode": {
    "name": "ipython",
    "version": 3
   },
   "file_extension": ".py",
   "mimetype": "text/x-python",
   "name": "python",
   "nbconvert_exporter": "python",
   "pygments_lexer": "ipython3",
   "version": "3.11.5"
  }
 },
 "nbformat": 4,
 "nbformat_minor": 2
}
