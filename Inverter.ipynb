{
 "cells": [
  {
   "cell_type": "markdown",
   "metadata": {},
   "source": [
    "# Simple GF180 test layout"
   ]
  },
  {
   "cell_type": "code",
   "execution_count": 1,
   "metadata": {},
   "outputs": [
    {
     "name": "stderr",
     "output_type": "stream",
     "text": [
      "\u001b[32m2023-10-16 20:06:57.912\u001b[0m | \u001b[1mINFO    \u001b[0m | \u001b[36mgdsfactory.technology.layer_views\u001b[0m:\u001b[36m__init__\u001b[0m:\u001b[36m790\u001b[0m - \u001b[1mImporting LayerViews from YAML file: '/workspaces/gf180-automated-design/gf180/gf180/layers.yaml'.\u001b[0m\n",
      "\u001b[32m2023-10-16 20:06:58.191\u001b[0m | \u001b[1mINFO    \u001b[0m | \u001b[36mgdsfactory.pdk\u001b[0m:\u001b[36mactivate\u001b[0m:\u001b[36m334\u001b[0m - \u001b[1m'gf180' PDK is now active\u001b[0m\n",
      "/home/designer/.local/lib/python3.11/site-packages/pydantic/main.py:308: UserWarning: Pydantic serializer warnings:\n",
      "  Expected `bool` but got `int` - serialized value may not be as expected\n",
      "  return self.__pydantic_serializer__.to_python(\n",
      "\u001b[32m2023-10-16 20:06:58.380\u001b[0m | \u001b[1mINFO    \u001b[0m | \u001b[36mgdsfactory.klive\u001b[0m:\u001b[36mshow\u001b[0m:\u001b[36m55\u001b[0m - \u001b[1mMessage from klive: {\"version\": \"0.2.2\", \"type\": \"open\", \"file\": \"/tmp/gdsfactory/drawInverter_123f165d.gds\"}\u001b[0m\n"
     ]
    }
   ],
   "source": [
    "import importlib\n",
    "import drawInverter\n",
    "\n",
    "importlib.reload(drawInverter)\n",
    "from drawInverter import drawInverter, drawTransistor\n",
    "\n",
    "c = drawInverter(\n",
    "    w_gate_Nmos = 10 ,\n",
    "    folding_Nmos = 10 ,\n",
    "    w_gate_Pmos = 6 ,\n",
    "    folding_Pmos = 3 )\n",
    "c.show(show_ports=True)"
   ]
  }
 ],
 "metadata": {
  "kernelspec": {
   "display_name": "Python 3",
   "language": "python",
   "name": "python3"
  },
  "language_info": {
   "codemirror_mode": {
    "name": "ipython",
    "version": 3
   },
   "file_extension": ".py",
   "mimetype": "text/x-python",
   "name": "python",
   "nbconvert_exporter": "python",
   "pygments_lexer": "ipython3",
   "version": "3.11.5"
  }
 },
 "nbformat": 4,
 "nbformat_minor": 2
}
