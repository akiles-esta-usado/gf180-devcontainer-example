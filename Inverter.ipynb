{
 "cells": [
  {
   "cell_type": "markdown",
   "metadata": {},
   "source": [
    "# Simple GF180 test layout"
   ]
  },
  {
   "cell_type": "code",
   "execution_count": 14,
   "metadata": {},
   "outputs": [
    {
     "name": "stderr",
     "output_type": "stream",
     "text": [
      "\u001b[32m2023-10-16 02:14:47.691\u001b[0m | \u001b[1mINFO    \u001b[0m | \u001b[36mgdsfactory.klive\u001b[0m:\u001b[36mshow\u001b[0m:\u001b[36m55\u001b[0m - \u001b[1mMessage from klive: {\"version\": \"0.2.2\", \"type\": \"reload\", \"file\": \"/tmp/gdsfactory/drawInverter_123f165d.gds\"}\u001b[0m\n"
     ]
    }
   ],
   "source": [
    "import importlib\n",
    "\n",
    "import drawInverter\n",
    "importlib.reload(drawInverter)\n",
    "\n",
    "from drawInverter import drawInverter, drawTransistor\n",
    "\n",
    "c = drawInverter(\n",
    "    w_gate_Nmos  = 10,\n",
    "    folding_Nmos = 10,\n",
    "    w_gate_Pmos  = 6,\n",
    "    folding_Pmos = 3)\n",
    "\n",
    "c.show(show_ports=True)"
   ]
  },
  {
   "cell_type": "code",
   "execution_count": null,
   "metadata": {},
   "outputs": [],
   "source": []
  }
 ],
 "metadata": {
  "kernelspec": {
   "display_name": "Python 3",
   "language": "python",
   "name": "python3"
  },
  "language_info": {
   "codemirror_mode": {
    "name": "ipython",
    "version": 3
   },
   "file_extension": ".py",
   "mimetype": "text/x-python",
   "name": "python",
   "nbconvert_exporter": "python",
   "pygments_lexer": "ipython3",
   "version": "3.11.5"
  }
 },
 "nbformat": 4,
 "nbformat_minor": 2
}
