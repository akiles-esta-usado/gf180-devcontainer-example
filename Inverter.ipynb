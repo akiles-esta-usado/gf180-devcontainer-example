{
 "cells": [
  {
   "cell_type": "markdown",
   "metadata": {},
   "source": [
    "# Simple GF180 test layout"
   ]
  },
  {
   "cell_type": "code",
   "execution_count": 1,
   "metadata": {},
   "outputs": [
    {
     "name": "stderr",
     "output_type": "stream",
     "text": [
      "\u001b[32m2023-10-18 19:16:58.552\u001b[0m | \u001b[1mINFO    \u001b[0m | \u001b[36mgdsfactory.technology.layer_views\u001b[0m:\u001b[36m__init__\u001b[0m:\u001b[36m782\u001b[0m - \u001b[1mImporting LayerViews from YAML file: '/workspaces/gf180-devcontainer-example/gf180/gf180/layers.yaml'.\u001b[0m\n",
      "\u001b[32m2023-10-18 19:16:58.758\u001b[0m | \u001b[1mINFO    \u001b[0m | \u001b[36mgdsfactory.pdk\u001b[0m:\u001b[36mactivate\u001b[0m:\u001b[36m316\u001b[0m - \u001b[1m'gf180' PDK is now active\u001b[0m\n",
      "\u001b[32m2023-10-18 19:16:58.812\u001b[0m | \u001b[1mINFO    \u001b[0m | \u001b[36mgdsfactory.klive\u001b[0m:\u001b[36mshow\u001b[0m:\u001b[36m55\u001b[0m - \u001b[1mMessage from klive: {\"version\": \"0.2.2\", \"type\": \"reload\", \"file\": \"/tmp/gdsfactory/drawInverter_123f165d.gds\"}\u001b[0m\n"
     ]
    }
   ],
   "source": [
    "import drawInverter\n",
    "c = drawInverter.drawInverter(\n",
    "    w_gate_Nmos = 10 ,\n",
    "    folding_Nmos = 10 ,\n",
    "    w_gate_Pmos = 6 ,\n",
    "    folding_Pmos = 3 )\n",
    "c.show(show_ports=True)\n",
    "del c"
   ]
  },
  {
   "cell_type": "code",
   "execution_count": null,
   "metadata": {},
   "outputs": [],
   "source": []
  }
 ],
 "metadata": {
  "kernelspec": {
   "display_name": "Python 3",
   "language": "python",
   "name": "python3"
  },
  "language_info": {
   "codemirror_mode": {
    "name": "ipython",
    "version": 3
   },
   "file_extension": ".py",
   "mimetype": "text/x-python",
   "name": "python",
   "nbconvert_exporter": "python",
   "pygments_lexer": "ipython3",
   "version": "3.11.5"
  }
 },
 "nbformat": 4,
 "nbformat_minor": 2
}
